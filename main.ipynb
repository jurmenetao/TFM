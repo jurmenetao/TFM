{
  "cells": [
    {
      "cell_type": "markdown",
      "source": [
        "## Vincular a drive"
      ],
      "metadata": {
        "id": "tyc4FKv0waJE"
      }
    },
    {
      "cell_type": "code",
      "source": [
        "import os"
      ],
      "metadata": {
        "id": "ahRzBTNgwe60"
      },
      "execution_count": null,
      "outputs": []
    },
    {
      "cell_type": "code",
      "source": [
        "from google.colab import drive\n",
        "drive.mount('/content/drive/')"
      ],
      "metadata": {
        "colab": {
          "base_uri": "https://localhost:8080/"
        },
        "id": "4NohdlyVwWdN",
        "outputId": "00b91b80-7d2c-43f3-dccc-c2bc1f998bda"
      },
      "execution_count": null,
      "outputs": [
        {
          "output_type": "stream",
          "name": "stdout",
          "text": [
            "Mounted at /content/drive/\n"
          ]
        }
      ]
    },
    {
      "cell_type": "code",
      "source": [
        "os.chdir(\"drive/MyDrive/Aprendizaje/UOC/2023_2024_S5/Git/TFM\")"
      ],
      "metadata": {
        "id": "Qr18-IDswgDo"
      },
      "execution_count": null,
      "outputs": []
    },
    {
      "cell_type": "markdown",
      "source": [
        "## Importar librerías"
      ],
      "metadata": {
        "id": "wfHPM0P8wdFB"
      }
    },
    {
      "cell_type": "code",
      "execution_count": null,
      "metadata": {
        "id": "lKC2c9b6v6kP"
      },
      "outputs": [],
      "source": [
        "from src.gan import GAN\n",
        "from src.generator import generator\n",
        "from src.discriminator import  discriminator"
      ]
    },
    {
      "cell_type": "code",
      "execution_count": null,
      "metadata": {
        "id": "yLEJDqAfv6ke",
        "colab": {
          "base_uri": "https://localhost:8080/"
        },
        "outputId": "cc8d77e4-662c-48c6-cb6b-f50fb3968453"
      },
      "outputs": [
        {
          "output_type": "stream",
          "name": "stdout",
          "text": [
            "Se han cargado 21554 imagenes.\n",
            "Carpeta 'Prueba' creada exitosamente.\n"
          ]
        },
        {
          "output_type": "execute_result",
          "data": {
            "text/plain": [
              "<src.gan.GAN at 0x7b3338c250f0>"
            ]
          },
          "metadata": {},
          "execution_count": 5
        }
      ],
      "source": [
        "dcgan = GAN(generator =  generator(additional_blocks=3).generator_model,\n",
        "            discriminator = discriminator(additional_layers=4, depth = 128).discriminator_model,\n",
        "            path_resultados = \"Prueba\",\n",
        "            # data_dir = \"Datos/data_npz_64x64_compressed/\",\n",
        "            epochs = 3,\n",
        "            sample_interval= 1,\n",
        "            batch_size=128,\n",
        "            learning_rate=0.0005)\n",
        "\n",
        "dcgan"
      ]
    },
    {
      "cell_type": "code",
      "source": [
        "dcgan.train()"
      ],
      "metadata": {
        "colab": {
          "base_uri": "https://localhost:8080/"
        },
        "id": "upgmc8tiyiUa",
        "outputId": "e12e6c73-ede7-4627-91c1-e5e3176e6a59"
      },
      "execution_count": null,
      "outputs": [
        {
          "output_type": "stream",
          "name": "stdout",
          "text": [
            "0.0042133331298828125\n",
            "4/4 [==============================] - 3s 13ms/step\n",
            "4/4 [==============================] - 1s 23ms/step - loss: 0.2940 - accuracy: 1.0000\n",
            "4/4 [==============================] - 0s 17ms/step - loss: 0.6883 - accuracy: 1.0000\n",
            "0 [D loss: 0.740227, reals_acc.: 100.00%, false_acc.:100.00%] [G loss: 0.254433 - 1.00%]\n",
            "32.505643367767334\n",
            "1/1 [==============================] - 1s 832ms/step\n",
            "1.3273723125457764\n",
            "4/4 [==============================] - 0s 16ms/step\n",
            "4/4 [==============================] - 0s 17ms/step - loss: 0.0147 - accuracy: 0.9922\n",
            "4/4 [==============================] - 0s 17ms/step - loss: 0.6409 - accuracy: 1.0000\n",
            "1 [D loss: 0.419808, reals_acc.: 99.22%, false_acc.:100.00%] [G loss: 0.063155 - 1.00%]\n",
            "1.4464054107666016\n",
            "1/1 [==============================] - 0s 17ms/step\n",
            "0.290097713470459\n",
            "4/4 [==============================] - 0s 16ms/step\n",
            "4/4 [==============================] - 0s 16ms/step - loss: 0.0085 - accuracy: 1.0000\n",
            "4/4 [==============================] - 0s 16ms/step - loss: 0.3249 - accuracy: 1.0000\n",
            "2 [D loss: 0.320751, reals_acc.: 100.00%, false_acc.:100.00%] [G loss: 1.308977 - 0.04%]\n",
            "1.3611664772033691\n",
            "1/1 [==============================] - 0s 17ms/step\n"
          ]
        },
        {
          "output_type": "stream",
          "name": "stderr",
          "text": [
            "/usr/local/lib/python3.10/dist-packages/keras/src/engine/training.py:3103: UserWarning: You are saving your model as an HDF5 file via `model.save()`. This file format is considered legacy. We recommend using instead the native Keras format, e.g. `model.save('my_model.keras')`.\n",
            "  saving_api.save_model(\n",
            "WARNING:tensorflow:Compiled the loaded model, but the compiled metrics have yet to be built. `model.compile_metrics` will be empty until you train or evaluate the model.\n"
          ]
        }
      ]
    }
  ],
  "metadata": {
    "kernelspec": {
      "display_name": "Python 3",
      "name": "python3"
    },
    "language_info": {
      "codemirror_mode": {
        "name": "ipython",
        "version": 3
      },
      "file_extension": ".py",
      "mimetype": "text/x-python",
      "name": "python",
      "nbconvert_exporter": "python",
      "pygments_lexer": "ipython3",
      "version": "3.12.4"
    },
    "colab": {
      "provenance": [],
      "gpuType": "T4"
    },
    "accelerator": "GPU"
  },
  "nbformat": 4,
  "nbformat_minor": 0
}